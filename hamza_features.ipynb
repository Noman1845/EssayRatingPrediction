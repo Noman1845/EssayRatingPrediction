{
 "cells": [
  {
   "cell_type": "code",
   "execution_count": null,
   "metadata": {},
   "outputs": [],
   "source": [
    "import spacy\n",
    "import swifter\n",
    "\n",
    "nlp = spacy.load(\"en_core_web_sm\", disable=['ner', 'parser'])\n",
    "\n",
    "def get_doc(text):\n",
    "    return nlp(text)\n",
    "\n",
    "def verbs(doc):\n",
    "    return sum(1 for token in doc if token.pos_ == \"VERB\")\n",
    "\n",
    "def nouns(doc):\n",
    "    return sum(1 for token in doc if token.pos_ == \"NOUN\")\n",
    "\n",
    "def adverbs(doc):\n",
    "    return sum(1 for token in doc if token.pos_ == \"ADV\")\n",
    "\n",
    "def adjectives(doc):\n",
    "    return sum(1 for token in doc if token.pos_ == \"ADJ\")\n",
    "\n",
    "def pronouns(doc):\n",
    "    return sum(1 for token in doc if token.pos_ == \"PRON\")\n",
    "\n",
    "def interjection(doc):\n",
    "    return sum(1 for token in doc if token.pos_ == \"INTJ\")\n",
    "\n",
    "def propnouns(doc):\n",
    "    return sum(1 for token in doc if token.pos_ == \"PROPN\")"
   ]
  },
  {
   "cell_type": "code",
   "execution_count": 3,
   "metadata": {},
   "outputs": [],
   "source": [
    "import profanity_check\n",
    "from profanity_check import predict\n",
    "\n",
    "def slur_usage(text):\n",
    "    # Predict whether the text contains profanity (1 for profanity, 0 for clean)\n",
    "    prediction = profanity_check.predict([text])\n",
    "\n",
    "    # Count the number of profane words\n",
    "    bad_word_count = sum(prediction)\n",
    "\n",
    "    return bad_word_count"
   ]
  },
  {
   "cell_type": "code",
   "execution_count": 1,
   "metadata": {},
   "outputs": [],
   "source": [
    "file_path = r\"C:\\Users\\hhamz\\OneDrive\\Documents\\transitionWords.txt\"\n",
    "with open(file_path, \"r\") as file: \n",
    "    file_content = file.read()\n",
    "    \n",
    "import re, swifter\n",
    "\n",
    "file_content = re.sub(r'<p>.*?<br>', '', file_content, flags=re.DOTALL)\n",
    "file_content = re.sub(r'<li>.*?<br>', '', file_content, flags=re.DOTALL)\n",
    "\n",
    "file_content = re.sub('<[^<]+?>', '', file_content)\n",
    "\n",
    "# Split the cleaned transition_list into a list of transition words\n",
    "transitions = file_content.split('\\n')\n",
    "\n",
    "transition_list = [item for item in transitions if item != \"\"]\n",
    "words_list = list(set(transition_list))\n",
    "\n",
    "\n",
    "def count_transitions_words(text):\n",
    "    # Count the number of transition words in the text\n",
    "    count = sum(1 for word in words_list if word.lower() in text.lower())\n",
    "    return count"
   ]
  }
 ],
 "metadata": {
  "kernelspec": {
   "display_name": "Python 3 (ipykernel)",
   "language": "python",
   "name": "python3"
  },
  "language_info": {
   "codemirror_mode": {
    "name": "ipython",
    "version": 3
   },
   "file_extension": ".py",
   "mimetype": "text/x-python",
   "name": "python",
   "nbconvert_exporter": "python",
   "pygments_lexer": "ipython3",
   "version": "3.10.9"
  }
 },
 "nbformat": 4,
 "nbformat_minor": 2
}
