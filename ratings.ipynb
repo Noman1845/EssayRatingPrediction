{
 "cells": [
  {
   "cell_type": "markdown",
   "metadata": {},
   "source": [
    "#### Unresolve issues:\n",
    "\n",
    "- There are rows where the raters in domain2 and domain2_scores are Null, it is yet to be resolve\n",
    "- Should we remove the domain2_scores, if that should be the case we have to remove the domain_prediction in the validation sample\n",
    "- Should we make the problem regression or classification "
   ]
  },
  {
   "cell_type": "code",
   "execution_count": null,
   "metadata": {},
   "outputs": [],
   "source": [
    "import pandas as pd\n",
    "import matplotlib.pyplot as plt\n",
    "import numpy as np\n",
    "\n",
    "\n",
    "# Load the training data\n",
    "training_data = pd.read_excel('data/training_set_rel3.xls')\n",
    "\n",
    "# Load the validation data\n",
    "validation_data = pd.read_excel('data/valid_set.xls')\n",
    "\n",
    "training_data.head()"
   ]
  },
  {
   "cell_type": "code",
   "execution_count": 4,
   "metadata": {},
   "outputs": [
    {
     "data": {
      "text/html": [
       "<div>\n",
       "<style scoped>\n",
       "    .dataframe tbody tr th:only-of-type {\n",
       "        vertical-align: middle;\n",
       "    }\n",
       "\n",
       "    .dataframe tbody tr th {\n",
       "        vertical-align: top;\n",
       "    }\n",
       "\n",
       "    .dataframe thead th {\n",
       "        text-align: right;\n",
       "    }\n",
       "</style>\n",
       "<table border=\"1\" class=\"dataframe\">\n",
       "  <thead>\n",
       "    <tr style=\"text-align: right;\">\n",
       "      <th></th>\n",
       "      <th>essay_id</th>\n",
       "      <th>essay_set</th>\n",
       "      <th>essay</th>\n",
       "      <th>domain1_score</th>\n",
       "      <th>domain2_score</th>\n",
       "    </tr>\n",
       "  </thead>\n",
       "  <tbody>\n",
       "    <tr>\n",
       "      <th>0</th>\n",
       "      <td>1</td>\n",
       "      <td>1</td>\n",
       "      <td>[-0.0018533318, 0.0018306837, 0.0014450253, 0....</td>\n",
       "      <td>8.0</td>\n",
       "      <td>NaN</td>\n",
       "    </tr>\n",
       "    <tr>\n",
       "      <th>1</th>\n",
       "      <td>2</td>\n",
       "      <td>1</td>\n",
       "      <td>[-0.0016639465, 0.0019178969, 0.0011549717, 0....</td>\n",
       "      <td>9.0</td>\n",
       "      <td>NaN</td>\n",
       "    </tr>\n",
       "    <tr>\n",
       "      <th>2</th>\n",
       "      <td>3</td>\n",
       "      <td>1</td>\n",
       "      <td>[-0.0019543157, 0.0019077965, 0.0012039462, 0....</td>\n",
       "      <td>7.0</td>\n",
       "      <td>NaN</td>\n",
       "    </tr>\n",
       "    <tr>\n",
       "      <th>3</th>\n",
       "      <td>4</td>\n",
       "      <td>1</td>\n",
       "      <td>[-0.0017123289, 0.0019363962, 0.0012750842, 0....</td>\n",
       "      <td>10.0</td>\n",
       "      <td>NaN</td>\n",
       "    </tr>\n",
       "    <tr>\n",
       "      <th>4</th>\n",
       "      <td>5</td>\n",
       "      <td>1</td>\n",
       "      <td>[-0.0016557423, 0.0017311055, 0.0010426836, 0....</td>\n",
       "      <td>8.0</td>\n",
       "      <td>NaN</td>\n",
       "    </tr>\n",
       "  </tbody>\n",
       "</table>\n",
       "</div>"
      ],
      "text/plain": [
       "   essay_id  essay_set                                              essay  \\\n",
       "0         1          1  [-0.0018533318, 0.0018306837, 0.0014450253, 0....   \n",
       "1         2          1  [-0.0016639465, 0.0019178969, 0.0011549717, 0....   \n",
       "2         3          1  [-0.0019543157, 0.0019077965, 0.0012039462, 0....   \n",
       "3         4          1  [-0.0017123289, 0.0019363962, 0.0012750842, 0....   \n",
       "4         5          1  [-0.0016557423, 0.0017311055, 0.0010426836, 0....   \n",
       "\n",
       "   domain1_score  domain2_score  \n",
       "0            8.0            NaN  \n",
       "1            9.0            NaN  \n",
       "2            7.0            NaN  \n",
       "3           10.0            NaN  \n",
       "4            8.0            NaN  "
      ]
     },
     "execution_count": 4,
     "metadata": {},
     "output_type": "execute_result"
    }
   ],
   "source": [
    "from src.pipeline import training_pipeline, validation_pipeline\n",
    "from src.preprocess import get_average_vector\n",
    "\n",
    "\n",
    "# Preprocess the training data\n",
    "preprocessed_training_data = training_pipeline(training_data,get_average_vector, domain_score_imputer_strategy='mean')\n",
    "preprocessed_training_data.head()"
   ]
  },
  {
   "cell_type": "code",
   "execution_count": null,
   "metadata": {},
   "outputs": [],
   "source": [
    "\n",
    "# Preprocess the validation data\n",
    "preprocessed_validation_data = validation_pipeline(validation_data,get_average_vector)\n",
    " "
   ]
  }
 ],
 "metadata": {
  "kernelspec": {
   "display_name": "Python 3",
   "language": "python",
   "name": "python3"
  },
  "language_info": {
   "codemirror_mode": {
    "name": "ipython",
    "version": 3
   },
   "file_extension": ".py",
   "mimetype": "text/x-python",
   "name": "python",
   "nbconvert_exporter": "python",
   "pygments_lexer": "ipython3",
   "version": "3.9.16"
  }
 },
 "nbformat": 4,
 "nbformat_minor": 2
}
